{
 "cells": [
  {
   "cell_type": "code",
   "execution_count": null,
   "metadata": {},
   "outputs": [],
   "source": [
    "import os\n",
    "import torch\n",
    "from Optimization import GradientTexturization, run_texturization\n",
    "import warnings\n",
    "warnings.filterwarnings(\"ignore\")"
   ]
  },
  {
   "cell_type": "code",
   "execution_count": null,
   "metadata": {},
   "outputs": [],
   "source": [
    "settings = {\n",
    "    'out_path': 'outputs_non_robust',\n",
    "    'n_views': 8,\n",
    "    'n_iter': 2000,\n",
    "    'lr': 5e-3,\n",
    "    'tv_loss':1e-6,\n",
    "    'image_size': 1024,\n",
    "    'device': torch.device('cuda' if torch.cuda.is_available() else 'cpu'),\n",
    "    'meshes': { \n",
    "        'pizza':{\n",
    "           'init_color': [128.,128.,128.], # Initial RGB color\n",
    "            'inter_cam': [1.8, 0,20,60,120],\n",
    "            'target': 963, # ImageNet Label Pizza\n",
    "        }\n",
    "    },\n",
    "    # Different Ensembles\n",
    "    'models': {\n",
    "        'all': ['fast_2px','fast_4px','robust_l2_3_0','robust_linf_4','robust_linf_8','densenet','inception'],\n",
    "    }\n",
    "}\n",
    "\n",
    "# Run Texturization\n",
    "run_texturization(settings)\n"
   ]
  },
  {
   "cell_type": "code",
   "execution_count": null,
   "metadata": {},
   "outputs": [],
   "source": []
  }
 ],
 "metadata": {
  "kernelspec": {
   "display_name": "Pytorch3D",
   "language": "python",
   "name": "pytorch3d"
  },
  "language_info": {
   "codemirror_mode": {
    "name": "ipython",
    "version": 3
   },
   "file_extension": ".py",
   "mimetype": "text/x-python",
   "name": "python",
   "nbconvert_exporter": "python",
   "pygments_lexer": "ipython3",
   "version": "3.8.12"
  },
  "varInspector": {
   "cols": {
    "lenName": 16,
    "lenType": 16,
    "lenVar": 40
   },
   "kernels_config": {
    "python": {
     "delete_cmd_postfix": "",
     "delete_cmd_prefix": "del ",
     "library": "var_list.py",
     "varRefreshCmd": "print(var_dic_list())"
    },
    "r": {
     "delete_cmd_postfix": ") ",
     "delete_cmd_prefix": "rm(",
     "library": "var_list.r",
     "varRefreshCmd": "cat(var_dic_list()) "
    }
   },
   "types_to_exclude": [
    "module",
    "function",
    "builtin_function_or_method",
    "instance",
    "_Feature"
   ],
   "window_display": false
  }
 },
 "nbformat": 4,
 "nbformat_minor": 2
}
